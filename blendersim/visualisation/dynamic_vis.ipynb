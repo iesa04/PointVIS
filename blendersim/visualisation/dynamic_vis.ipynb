{
 "cells": [
  {
   "cell_type": "code",
   "execution_count": 1,
   "metadata": {},
   "outputs": [
    {
     "name": "stdout",
     "output_type": "stream",
     "text": [
      "Jupyter environment detected. Enabling Open3D WebVisualizer.\n",
      "[Open3D INFO] WebRTC GUI backend enabled.\n",
      "[Open3D INFO] WebRTCWindowSystem: HTTP handshake server disabled.\n"
     ]
    }
   ],
   "source": [
    "import pandas as pd\n",
    "import numpy as np\n",
    "from scipy.spatial.transform import Rotation as R\n",
    "import open3d as o3d\n",
    "import time\n",
    "import os\n",
    "import json\n",
    "import matplotlib.pyplot as plt\n",
    "from PIL import Image\n",
    "from tqdm import tqdm\n"
   ]
  },
  {
   "cell_type": "code",
   "execution_count": 2,
   "metadata": {},
   "outputs": [],
   "source": [
    "def load_csv(file_path):\n",
    "    try:\n",
    "        df = pd.read_csv(file_path, sep=\";\")\n",
    "        print(df.shape)\n",
    "        if df.empty:\n",
    "            print(\"The CSV file is empty.\")\n",
    "            return None\n",
    "        return df\n",
    "    except pd.errors.EmptyDataError:\n",
    "        print(\"No data in the CSV file.\")\n",
    "        return None\n",
    "    except pd.errors.ParserError:\n",
    "        print(\"Error parsing the CSV file.\")\n",
    "        return None\n",
    "    except Exception as e:\n",
    "        print(f\"An error occurred: {e}\")\n",
    "        return None\n"
   ]
  },
  {
   "cell_type": "code",
   "execution_count": 3,
   "metadata": {},
   "outputs": [],
   "source": [
    "def get_loaded_camera_matrices(camera_path):\n",
    "    with open(camera_path, 'r') as f:\n",
    "        loaded_data = json.load(f)\n",
    "        K_loaded = np.array(loaded_data['K'])\n",
    "        RT_loaded = np.array(loaded_data['RT'])\n",
    "        resx = int(loaded_data['resolution_x'])\n",
    "        resy = int(loaded_data['resolution_y'])\n",
    "\n",
    "    return resx, resy, K_loaded, RT_loaded"
   ]
  },
  {
   "cell_type": "code",
   "execution_count": 4,
   "metadata": {},
   "outputs": [],
   "source": [
    "def get_point_cloud(file_path, noise = False):\n",
    "    df = load_csv(file_path)\n",
    "    if noise: coord = ['X', 'Y', 'Z']\n",
    "    else: coord = ['X_noise', 'Y_noise', 'Z_noise']\n",
    "\n",
    "    points = df[coord].values\n",
    "    colors = df[['red', 'green', 'blue']].values\n",
    "\n",
    "    point_cloud = o3d.geometry.PointCloud()\n",
    "    point_cloud.points = o3d.utility.Vector3dVector(points)\n",
    "    point_cloud.colors = o3d.utility.Vector3dVector(colors)\n",
    "    return point_cloud"
   ]
  },
  {
   "cell_type": "code",
   "execution_count": 5,
   "metadata": {},
   "outputs": [],
   "source": [
    "def compute_projection_matrix(icm, ecm):\n",
    "    \"\"\"\n",
    "    Compute the projection matrix P from intrinsic matrix icm and extrinsic matrix ecm.\n",
    "\n",
    "    Parameters:\n",
    "    - icm: Intrinsic matrix (3x3 numpy array)\n",
    "    - ecm: Extrinsic matrix (4x4 numpy array)\n",
    "\n",
    "    Returns:\n",
    "    - P: Projection matrix (3x4 numpy array)\n",
    "    \"\"\"\n",
    "\n",
    "    R = ecm[:3, :3] \n",
    "    t = ecm[:3, 3].reshape(-1, 1)\n",
    "\n",
    "    # Compute projection matrix P = K * [R | t]\n",
    "    P = np.dot(icm, np.hstack((R, t)))\n",
    "\n",
    "    return P"
   ]
  },
  {
   "cell_type": "code",
   "execution_count": 6,
   "metadata": {},
   "outputs": [],
   "source": [
    "def show_projection(image_path, p2d):\n",
    "    image = Image.open(image_path)\n",
    "\n",
    "    image_np = np.array(image)\n",
    "\n",
    "    points = np.array(p2d)\n",
    "\n",
    "    x = points[:, 0]\n",
    "    y = points[:, 1]\n",
    "\n",
    "    plt.imshow(image_np)\n",
    "\n",
    "    plt.scatter(x, y, color='blue', marker='o', alpha=0.1)\n",
    "\n",
    "    plt.title('Image with Points')\n",
    "    plt.xlabel('X coordinate')\n",
    "    plt.ylabel('Y coordinate')\n",
    "\n",
    "    plt.show()"
   ]
  },
  {
   "cell_type": "code",
   "execution_count": 7,
   "metadata": {},
   "outputs": [],
   "source": [
    "def hex_to_rgb(hex_code):\n",
    "  if not hex_code.startswith(\"#\") or len(hex_code) != 7:\n",
    "    raise ValueError(\"Invalid hex code format.\")\n",
    "\n",
    "  rgb_code = hex_code[1:]\n",
    "  try:\n",
    "    r, g, b = tuple(int(rgb_code[i:i+2], 16) for i in (0, 2, 4))\n",
    "  except ValueError:\n",
    "    raise ValueError(\"Invalid hex code format.\")\n",
    "\n",
    "  return r, g, b\n"
   ]
  },
  {
   "cell_type": "code",
   "execution_count": 8,
   "metadata": {},
   "outputs": [],
   "source": [
    "color_map = {\n",
    "    (255, 0, 226): 'wall',\n",
    "    (0, 2, 61): 'table',\n",
    "    (0, 255, 222): 'sofa',\n",
    "    (63, 72, 204): 'sofa pillow1',\n",
    "    (0, 162, 232): 'sofa pillow2',\n",
    "    (163, 73, 164): 'sofa pillow3',\n",
    "    (255, 0, 93): 'floor mat',\n",
    "    (231, 255, 0): 'kitchen furniture',\n",
    "    (0, 255, 22): 'vase',\n",
    "    (255, 127, 39): 'desk',\n",
    "    (255, 186, 0): 'tv',\n",
    "    (0, 0, 0) : 'unclassified'\n",
    "}"
   ]
  },
  {
   "cell_type": "markdown",
   "metadata": {},
   "source": [
    "## OPEN 3D VIS"
   ]
  },
  {
   "cell_type": "code",
   "execution_count": 16,
   "metadata": {},
   "outputs": [
    {
     "name": "stdout",
     "output_type": "stream",
     "text": [
      "(247087, 14)\n"
     ]
    },
    {
     "name": "stderr",
     "output_type": "stream",
     "text": [
      "100%|██████████| 247087/247087 [00:00<00:00, 298748.68it/s]\n"
     ]
    }
   ],
   "source": [
    "def visualize_point_cloud_and_project(file_path, camera_path, image_path, noise=False):\n",
    "    \n",
    "    pcd = get_point_cloud(file_path, noise)\n",
    "    resx, resy, icm, ecm = get_loaded_camera_matrices(camera_path)\n",
    "    P = compute_projection_matrix(icm, ecm)\n",
    "    points_np = np.asarray(pcd.points)\n",
    "\n",
    "    img = Image.open(image_path)\n",
    "    pixels = img.load()\n",
    "    width, height = img.size\n",
    "\n",
    "    Points2DLabel = []\n",
    "    PointsColors = []\n",
    "\n",
    "    points_homogeneous = np.hstack((points_np, np.ones((points_np.shape[0], 1))))\n",
    "    points_2D_homogeneous = np.dot(P, points_homogeneous.T).T\n",
    "    points_2D = points_2D_homogeneous / points_2D_homogeneous[:, 2][:, np.newaxis]\n",
    "\n",
    "    for i in tqdm(range(len(points_2D))):\n",
    "        xc, yc, _ = points_2D[i]\n",
    "        if 0 <= xc < width and 0 <= yc < height:\n",
    "            r, g, b, a = pixels[int(xc), int(yc)]\n",
    "            color = (r, g, b)\n",
    "            Points2DLabel.append(color_map.get(color, 'unclassified'))\n",
    "            PointsColors.append([r, g, b])\n",
    "\n",
    "    # pcd.colors = o3d.utility.Vector3dVector(PointsColors)\n",
    "\n",
    "    return pcd.colors, o3d.utility.Vector3dVector(PointsColors)\n",
    "    \n",
    "    vis = o3d.visualization.Visualizer()\n",
    "    vis.create_window(window_name='Virtual Information Space', width=950, height=1080, left=0, top=35)\n",
    "    vis.add_geometry(pcd)\n",
    "    camera_lines = o3d.geometry.LineSet.create_camera_visualization(view_width_px=resx, view_height_px=resy, intrinsic=icm, extrinsic=ecm)\n",
    "    vis.add_geometry(camera_lines)\n",
    "\n",
    "    last_modified_time = os.path.getmtime(file_path)\n",
    "    print(time.ctime(last_modified_time))\n",
    "\n",
    "    try:\n",
    "        while True:\n",
    "            current_modified_time = os.path.getmtime(file_path)\n",
    "            if current_modified_time != last_modified_time:\n",
    "                temp = get_point_cloud(file_path, noise)\n",
    "                if temp is not None:\n",
    "                    pcd = temp\n",
    "                    print(pcd.points)\n",
    "                    vis.clear_geometries()\n",
    "                    vis.add_geometry(pcd)\n",
    "                    vis.add_geometry(camera_lines)\n",
    "                last_modified_time = current_modified_time\n",
    "            \n",
    "            vis.update_geometry(pcd)\n",
    "            vis.poll_events()\n",
    "            vis.update_renderer()\n",
    "\n",
    "    except KeyboardInterrupt:\n",
    "        print(\"Stopped by user\")\n",
    "        \n",
    "    vis.destroy_window()\n",
    "    return Points2DLabel\n",
    "\n",
    "file_path = 'C:\\\\Programming\\\\Fourth Semester\\\\PointVIS\\\\PointVIS\\\\assets\\\\output\\\\chair1_frames_1_to_1.csv'\n",
    "camera_path = 'C:\\\\Programming\\\\Fourth Semester\\\\PointVIS\\\\PointVIS\\\\assets\\\\output\\\\camera1.csv'\n",
    "image_path = 'C:\\\\Programming\\\\Fourth Semester\\\\PointVIS\\\\PointVIS\\\\assets\\\\output\\\\chair1_frame_1_image_segmented.png'\n",
    "p2d, found_colors = visualize_point_cloud_and_project(file_path=file_path, image_path=image_path, noise=False, camera_path=camera_path)\n"
   ]
  },
  {
   "cell_type": "code",
   "execution_count": 20,
   "metadata": {},
   "outputs": [
    {
     "data": {
      "text/plain": [
       "array([[0.80000001, 0.27951479, 0.6626758 ],\n",
       "       [0.80000001, 0.27951479, 0.6626758 ],\n",
       "       [0.80000001, 0.27951479, 0.6626758 ],\n",
       "       ...,\n",
       "       [0.80000001, 0.80000001, 0.80000001],\n",
       "       [0.80000001, 0.80000001, 0.80000001],\n",
       "       [0.80000001, 0.80000001, 0.80000001]])"
      ]
     },
     "execution_count": 20,
     "metadata": {},
     "output_type": "execute_result"
    }
   ],
   "source": [
    "np.asarray(p2d)"
   ]
  },
  {
   "cell_type": "code",
   "execution_count": 18,
   "metadata": {},
   "outputs": [
    {
     "data": {
      "text/plain": [
       "array([[255., 133.,   0.],\n",
       "       [255., 133.,   0.],\n",
       "       [255., 133.,   0.],\n",
       "       ...,\n",
       "       [163.,  73., 164.],\n",
       "       [  0., 255., 222.],\n",
       "       [  0., 255., 222.]])"
      ]
     },
     "execution_count": 18,
     "metadata": {},
     "output_type": "execute_result"
    }
   ],
   "source": [
    "np.asarray(found_colors)"
   ]
  },
  {
   "cell_type": "markdown",
   "metadata": {},
   "source": [
    "## Trail and Error"
   ]
  },
  {
   "cell_type": "code",
   "execution_count": 13,
   "metadata": {},
   "outputs": [
    {
     "name": "stdout",
     "output_type": "stream",
     "text": [
      "(247087, 14)\n"
     ]
    },
    {
     "name": "stderr",
     "output_type": "stream",
     "text": [
      "100%|██████████| 247087/247087 [00:04<00:00, 50628.63it/s]\n"
     ]
    },
    {
     "name": "stdout",
     "output_type": "stream",
     "text": [
      "Sun Jun 16 10:26:32 2024\n",
      "[Open3D WARNING] GLFW Error: WGL: Failed to make context current: The requested transformation operation is not supported. \n",
      "[Open3D WARNING] GLFW Error: WGL: Failed to make context current: The handle is invalid. \n",
      "[Open3D WARNING] GLFW Error: WGL: Failed to make context current: The handle is invalid. \n",
      "[Open3D WARNING] GLFW Error: WGL: Failed to make context current: The handle is invalid. \n",
      "[Open3D WARNING] GLFW Error: WGL: Failed to make context current: The handle is invalid. \n",
      "[Open3D WARNING] GLFW Error: WGL: Failed to make context current: The requested transformation operation is not supported. \n",
      "[Open3D WARNING] GLFW Error: WGL: Failed to make context current: The requested transformation operation is not supported. \n",
      "Stopped by user\n"
     ]
    }
   ],
   "source": [
    "def visualize_point_cloud_and_project(file_path, camera_path, image_path, noise = False):\n",
    "\n",
    "    pcd = get_point_cloud(file_path, noise)\n",
    "\n",
    "    resx, resy, icm, ecm = get_loaded_camera_matrices(camera_path)\n",
    "\n",
    "    P = compute_projection_matrix(icm, ecm)\n",
    "\n",
    "    Points2DLabel = []\n",
    "    PointsColors = []\n",
    "\n",
    "    points_np = np.asarray(pcd.points)\n",
    "\n",
    "    img = Image.open(image_path)\n",
    "\n",
    "    pixels = img.load()\n",
    "\n",
    "    width, height = img.size\n",
    "\n",
    "    for i in tqdm(range(len(points_np))):\n",
    "        point = points_np[i]\n",
    "        point = list(point)\n",
    "        point.append(1)\n",
    "\n",
    "        point_3D = np.array(point).reshape((4, 1))\n",
    "\n",
    "        point_2D_homogeneous = np.dot(P, point_3D)\n",
    "\n",
    "        point_2D = point_2D_homogeneous / point_2D_homogeneous[2]\n",
    "\n",
    "        xc = point_2D[0, 0]\n",
    "        yc = point_2D[1, 0]\n",
    "\n",
    "        if 0 <= xc < width and 0 <= yc < height:\n",
    "            r, g, b, a = pixels[xc, yc]\n",
    "            color = (r, g, b)\n",
    "            if color in color_map:\n",
    "                Points2DLabel.append(color_map[color])\n",
    "                PointsColors.append([r/255, g/255, b/255])\n",
    "            else:\n",
    "                Points2DLabel.append('unclassified')\n",
    "                PointsColors.append([0,0,0])\n",
    "\n",
    "    vis = o3d.visualization.Visualizer()\n",
    "    vis.create_window(window_name='Virtual Information Space', width=950, height=1080, left=0, top=35)\n",
    "    vis.add_geometry(pcd)\n",
    "\n",
    "    cameraLines = o3d.geometry.LineSet.create_camera_visualization(view_width_px=resx, view_height_px=resy, intrinsic = icm, extrinsic = ecm)\n",
    "    vis.add_geometry(cameraLines)\n",
    "\n",
    "    last_modified_time = os.path.getmtime(file_path)\n",
    "\n",
    "    print(time.ctime(last_modified_time))\n",
    "\n",
    "    try:\n",
    "        while True:\n",
    "            current_modified_time = os.path.getmtime(file_path)\n",
    "            \n",
    "            if current_modified_time != last_modified_time:\n",
    "                temp = get_point_cloud(file_path, noise)\n",
    "                if temp is not None: \n",
    "                    pcd = temp\n",
    "                    print(pcd.points)\n",
    "                    vis.clear_geometries()\n",
    "                    vis.add_geometry(pcd)\n",
    "                last_modified_time = current_modified_time\n",
    "            \n",
    "            vis.update_geometry(pcd)\n",
    "            vis.poll_events()\n",
    "            vis.update_renderer()\n",
    "\n",
    "    except KeyboardInterrupt:\n",
    "        print(\"Stopped by user\")\n",
    "        \n",
    "    vis.destroy_window()\n",
    "\n",
    "    return Points2DLabel\n",
    "\n",
    "file_path = 'C:\\\\Programming\\\\Fourth Semester\\\\PointVIS\\\\PointVIS\\\\assets\\\\output\\\\chair1_frames_1_to_1.csv'\n",
    "camera_path = 'C:\\\\Programming\\\\Fourth Semester\\\\PointVIS\\\\PointVIS\\\\assets\\\\output\\\\camera1.csv'\n",
    "image_path = 'C:\\\\Programming\\\\Fourth Semester\\\\PointVIS\\\\PointVIS\\\\assets\\\\output\\\\chair1_frame_1_image_segmented.png'\n",
    "p2d = visualize_point_cloud_and_project(file_path = file_path, image_path=image_path, noise = False, camera_path = camera_path)"
   ]
  },
  {
   "cell_type": "code",
   "execution_count": 2,
   "metadata": {},
   "outputs": [
    {
     "name": "stdout",
     "output_type": "stream",
     "text": [
      "Skipping rename for C:/Programming/Fourth Semester/PointVIS/PointVIS/assets/output\\chair1_frame_1_image_rendered.png because C:/Programming/Fourth Semester/PointVIS/PointVIS/assets/output\\chair1.png already exists.\n",
      "Skipping rename for C:/Programming/Fourth Semester/PointVIS/PointVIS/assets/output\\chair1_frame_1_image_segmented.png because C:/Programming/Fourth Semester/PointVIS/PointVIS/assets/output\\chair1.png already exists.\n",
      "Renamed: C:/Programming/Fourth Semester/PointVIS/PointVIS/assets/output\\view1_frames_17_to_17.csv to C:/Programming/Fourth Semester/PointVIS/PointVIS/assets/output\\view1.csv\n",
      "Renamed: C:/Programming/Fourth Semester/PointVIS/PointVIS/assets/output\\view1_frame_17_image_alpha.png to C:/Programming/Fourth Semester/PointVIS/PointVIS/assets/output\\view1.png\n",
      "Skipping rename for C:/Programming/Fourth Semester/PointVIS/PointVIS/assets/output\\view1_frame_17_image_rendered.png because C:/Programming/Fourth Semester/PointVIS/PointVIS/assets/output\\view1.png already exists.\n",
      "Skipping rename for C:/Programming/Fourth Semester/PointVIS/PointVIS/assets/output\\view1_frame_17_image_segmented.png because C:/Programming/Fourth Semester/PointVIS/PointVIS/assets/output\\view1.png already exists.\n",
      "Renamed: C:/Programming/Fourth Semester/PointVIS/PointVIS/assets/output\\view2_frames_17_to_17.csv to C:/Programming/Fourth Semester/PointVIS/PointVIS/assets/output\\view2.csv\n",
      "Renamed: C:/Programming/Fourth Semester/PointVIS/PointVIS/assets/output\\view2_frame_17_image_alpha.png to C:/Programming/Fourth Semester/PointVIS/PointVIS/assets/output\\view2.png\n",
      "Skipping rename for C:/Programming/Fourth Semester/PointVIS/PointVIS/assets/output\\view2_frame_17_image_rendered.png because C:/Programming/Fourth Semester/PointVIS/PointVIS/assets/output\\view2.png already exists.\n",
      "Skipping rename for C:/Programming/Fourth Semester/PointVIS/PointVIS/assets/output\\view2_frame_17_image_segmented.png because C:/Programming/Fourth Semester/PointVIS/PointVIS/assets/output\\view2.png already exists.\n",
      "Renamed: C:/Programming/Fourth Semester/PointVIS/PointVIS/assets/output\\view3_frames_17_to_17.csv to C:/Programming/Fourth Semester/PointVIS/PointVIS/assets/output\\view3.csv\n",
      "Renamed: C:/Programming/Fourth Semester/PointVIS/PointVIS/assets/output\\view3_frame_17_image_alpha.png to C:/Programming/Fourth Semester/PointVIS/PointVIS/assets/output\\view3.png\n",
      "Skipping rename for C:/Programming/Fourth Semester/PointVIS/PointVIS/assets/output\\view3_frame_17_image_rendered.png because C:/Programming/Fourth Semester/PointVIS/PointVIS/assets/output\\view3.png already exists.\n",
      "Skipping rename for C:/Programming/Fourth Semester/PointVIS/PointVIS/assets/output\\view3_frame_17_image_segmented.png because C:/Programming/Fourth Semester/PointVIS/PointVIS/assets/output\\view3.png already exists.\n"
     ]
    }
   ],
   "source": [
    "import os\n",
    "\n",
    "def rename_files(folder_path):\n",
    "    # Get a list of all files in the folder\n",
    "    files = os.listdir(folder_path)\n",
    "    \n",
    "    for file_name in files:\n",
    "        # Check if it's a file\n",
    "        if os.path.isfile(os.path.join(folder_path, file_name)):\n",
    "            # Split the filename at the first underscore\n",
    "            parts = file_name.split('_', 1)\n",
    "            \n",
    "            # Ensure we don't mistakenly rename files without underscores\n",
    "            if len(parts) > 1:\n",
    "                base_name = parts[0]\n",
    "                extension = os.path.splitext(file_name)[1]\n",
    "                new_name = base_name + extension\n",
    "                \n",
    "                # Construct full old and new file paths\n",
    "                old_file = os.path.join(folder_path, file_name)\n",
    "                new_file = os.path.join(folder_path, new_name)\n",
    "                \n",
    "                # Check if new file name already exists, if it does, skip renaming\n",
    "                if os.path.exists(new_file):\n",
    "                    print(f\"Skipping rename for {old_file} because {new_file} already exists.\")\n",
    "                else:\n",
    "                    # Rename the file\n",
    "                    os.rename(old_file, new_file)\n",
    "                    print(f\"Renamed: {old_file} to {new_file}\")\n",
    "\n",
    "folder_path = 'C:/Programming/Fourth Semester/PointVIS/PointVIS/assets/output'\n",
    "rename_files(folder_path)"
   ]
  },
  {
   "cell_type": "code",
   "execution_count": 10,
   "metadata": {},
   "outputs": [
    {
     "data": {
      "image/png": "[encoded data removed]",
      "text/plain": [
       "<Figure size 640x480 with 1 Axes>"
      ]
     },
     "metadata": {},
     "output_type": "display_data"
    }
   ],
   "source": [
    "image = Image.open(image_path)\n",
    "\n",
    "image_np = np.array(image)\n",
    "\n",
    "plt.imshow(image_np)\n",
    "\n",
    "plt.title('Image with Points')\n",
    "plt.xlabel('X coordinate')\n",
    "plt.ylabel('Y coordinate')\n",
    "\n",
    "plt.show()"
   ]
  },
  {
   "cell_type": "code",
   "execution_count": 11,
   "metadata": {},
   "outputs": [
    {
     "data": {
      "text/plain": [
       "array([255, 133,   0, 255], dtype=uint8)"
      ]
     },
     "execution_count": 11,
     "metadata": {},
     "output_type": "execute_result"
    }
   ],
   "source": [
    "image_np[100, 100]"
   ]
  }
 ],
 "metadata": {
  "kernelspec": {
   "display_name": "ProjectPCD",
   "language": "python",
   "name": "python3"
  },
  "language_info": {
   "codemirror_mode": {
    "name": "ipython",
    "version": 3
   },
   "file_extension": ".py",
   "mimetype": "text/x-python",
   "name": "python",
   "nbconvert_exporter": "python",
   "pygments_lexer": "ipython3",
   "version": "3.8.18"
  }
 },
 "nbformat": 4,
 "nbformat_minor": 2
}
